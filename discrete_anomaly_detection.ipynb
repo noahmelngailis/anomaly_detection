{
 "cells": [
  {
   "cell_type": "code",
   "execution_count": 2,
   "metadata": {},
   "outputs": [],
   "source": [
    "from __future__ import division\n",
    "import itertools\n",
    "import warnings\n",
    "warnings.filterwarnings(\"ignore\")\n",
    "import matplotlib.pyplot as plt\n",
    "import matplotlib.dates as mdates\n",
    "import numpy as np\n",
    "import pandas as pd\n",
    "import math\n",
    "from sklearn import metrics\n",
    "from random import randint\n",
    "from matplotlib import style\n",
    "import seaborn as sns\n",
    "%matplotlib inline"
   ]
  },
  {
   "cell_type": "code",
   "execution_count": 18,
   "metadata": {},
   "outputs": [],
   "source": [
    "colnames = ['date', 'time', 'url_destination', 'unknown_1', 'unknown_2', 'ip_address']\n",
    "df = pd.read_csv('curriculum-access.txt',\n",
    "                engine='python',\n",
    "                header=None,\n",
    "                index_col=False,\n",
    "                names=colnames,\n",
    "                sep=r'\\s(?=(?:[^\"]*\"[^\"]*\")*[^\"]*$)(?![^\\[]*\\])',\n",
    "                na_values='\"-\"',)"
   ]
  },
  {
   "cell_type": "code",
   "execution_count": 10,
   "metadata": {},
   "outputs": [
    {
     "name": "stdout",
     "output_type": "stream",
     "text": [
      "<class 'pandas.core.frame.DataFrame'>\n",
      "RangeIndex: 543596 entries, 0 to 543595\n",
      "Data columns (total 6 columns):\n",
      "date          543596 non-null object\n",
      "time          543596 non-null object\n",
      "url           543595 non-null object\n",
      "unknown_1     543596 non-null int64\n",
      "unknown_2     515740 non-null float64\n",
      "ip_address    543596 non-null object\n",
      "dtypes: float64(1), int64(1), object(4)\n",
      "memory usage: 24.9+ MB\n"
     ]
    }
   ],
   "source": [
    "df.info()"
   ]
  },
  {
   "cell_type": "code",
   "execution_count": 11,
   "metadata": {},
   "outputs": [
    {
     "data": {
      "text/html": [
       "<div>\n",
       "<style scoped>\n",
       "    .dataframe tbody tr th:only-of-type {\n",
       "        vertical-align: middle;\n",
       "    }\n",
       "\n",
       "    .dataframe tbody tr th {\n",
       "        vertical-align: top;\n",
       "    }\n",
       "\n",
       "    .dataframe thead th {\n",
       "        text-align: right;\n",
       "    }\n",
       "</style>\n",
       "<table border=\"1\" class=\"dataframe\">\n",
       "  <thead>\n",
       "    <tr style=\"text-align: right;\">\n",
       "      <th></th>\n",
       "      <th>unknown_1</th>\n",
       "      <th>unknown_2</th>\n",
       "    </tr>\n",
       "  </thead>\n",
       "  <tbody>\n",
       "    <tr>\n",
       "      <th>count</th>\n",
       "      <td>543596.000000</td>\n",
       "      <td>515740.000000</td>\n",
       "    </tr>\n",
       "    <tr>\n",
       "      <th>mean</th>\n",
       "      <td>329.354445</td>\n",
       "      <td>32.625877</td>\n",
       "    </tr>\n",
       "    <tr>\n",
       "      <th>std</th>\n",
       "      <td>178.595632</td>\n",
       "      <td>12.699356</td>\n",
       "    </tr>\n",
       "    <tr>\n",
       "      <th>min</th>\n",
       "      <td>1.000000</td>\n",
       "      <td>1.000000</td>\n",
       "    </tr>\n",
       "    <tr>\n",
       "      <th>25%</th>\n",
       "      <td>195.000000</td>\n",
       "      <td>24.000000</td>\n",
       "    </tr>\n",
       "    <tr>\n",
       "      <th>50%</th>\n",
       "      <td>344.000000</td>\n",
       "      <td>29.000000</td>\n",
       "    </tr>\n",
       "    <tr>\n",
       "      <th>75%</th>\n",
       "      <td>476.000000</td>\n",
       "      <td>34.000000</td>\n",
       "    </tr>\n",
       "    <tr>\n",
       "      <th>max</th>\n",
       "      <td>650.000000</td>\n",
       "      <td>57.000000</td>\n",
       "    </tr>\n",
       "  </tbody>\n",
       "</table>\n",
       "</div>"
      ],
      "text/plain": [
       "           unknown_1      unknown_2\n",
       "count  543596.000000  515740.000000\n",
       "mean      329.354445      32.625877\n",
       "std       178.595632      12.699356\n",
       "min         1.000000       1.000000\n",
       "25%       195.000000      24.000000\n",
       "50%       344.000000      29.000000\n",
       "75%       476.000000      34.000000\n",
       "max       650.000000      57.000000"
      ]
     },
     "execution_count": 11,
     "metadata": {},
     "output_type": "execute_result"
    }
   ],
   "source": [
    "df.describe()"
   ]
  },
  {
   "cell_type": "code",
   "execution_count": 13,
   "metadata": {},
   "outputs": [
    {
     "data": {
      "text/plain": [
       "array([  1,   2,   3,   4,   5,   6,   7,   8,   9,  10,  11,  12,  13,\n",
       "        14,  15,  16,  17,  18,  19,  20,  21,  22,  23,  24,  25,  26,\n",
       "        27,  28,  29,  30,  31,  32,  33,  34,  35,  36,  37,  38,  39,\n",
       "        40,  41,  42,  43,  44,  45,  46,  47,  48,  49,  50,  51,  52,\n",
       "        53,  54,  55,  56,  57,  58,  59,  60,  61,  62,  63,  64,  65,\n",
       "        66,  67,  68,  69,  70,  71,  72,  73,  74,  75,  76,  77,  78,\n",
       "        79,  80,  81,  82,  83,  84,  85,  86,  87,  88,  89,  90,  91,\n",
       "        92,  93,  94,  95,  96,  97,  98,  99, 100, 101, 102, 103, 104,\n",
       "       105, 106, 107, 108, 109, 110, 111, 112, 113, 114, 115, 116, 117,\n",
       "       118, 119, 120, 121, 122, 123, 124, 125, 126, 127, 128, 129, 130,\n",
       "       131, 132, 133, 134, 135, 136, 137, 138, 139, 140, 141, 142, 143,\n",
       "       144, 145, 146, 147, 148, 149, 150, 151, 152, 153, 154, 155, 156,\n",
       "       157, 158, 159, 160, 161, 162, 163, 164, 165, 166, 167, 168, 169,\n",
       "       170, 171, 172, 173, 174, 175, 176, 177, 178, 179, 180, 181, 182,\n",
       "       183, 184, 185, 186, 187, 188, 189, 190, 191, 192, 193, 194, 195,\n",
       "       196, 197, 198, 199, 200, 201, 202, 203, 204, 205, 206, 207, 208,\n",
       "       209, 210, 211, 212, 213, 214, 215, 216, 217, 218, 219, 220, 221,\n",
       "       222, 223, 224, 225, 226, 227, 228, 229, 230, 231, 232, 233, 234,\n",
       "       235, 236, 237, 238, 239, 240, 241, 242, 243, 244, 245, 246, 247,\n",
       "       248, 249, 250, 251, 252, 253, 254, 255, 256, 257, 258, 259, 260,\n",
       "       261, 262, 263, 264, 265, 266, 267, 268, 269, 270, 271, 272, 273,\n",
       "       274, 275, 276, 277, 278, 279, 280, 281, 282, 283, 284, 285, 286,\n",
       "       287, 288, 289, 290, 291, 292, 293, 294, 295, 296, 297, 298, 299,\n",
       "       300, 301, 302, 303, 304, 305, 306, 307, 308, 309, 310, 311, 312,\n",
       "       313, 314, 315, 316, 317, 318, 319, 320, 321, 322, 323, 324, 325,\n",
       "       326, 327, 328, 329, 330, 331, 332, 333, 334, 335, 336, 337, 338,\n",
       "       339, 340, 341, 342, 343, 344, 345, 346, 347, 348, 349, 350, 351,\n",
       "       352, 353, 354, 355, 356, 357, 358, 359, 360, 361, 362, 363, 364,\n",
       "       365, 366, 367, 368, 369, 370, 371, 372, 373, 374, 375, 376, 377,\n",
       "       378, 379, 380, 381, 382, 383, 384, 385, 386, 387, 388, 389, 390,\n",
       "       391, 392, 393, 394, 395, 396, 397, 398, 399, 400, 401, 402, 403,\n",
       "       404, 405, 406, 407, 408, 409, 410, 411, 412, 413, 414, 415, 416,\n",
       "       417, 418, 419, 420, 421, 422, 423, 424, 425, 426, 427, 428, 429,\n",
       "       430, 431, 432, 433, 434, 435, 436, 437, 438, 439, 440, 441, 442,\n",
       "       443, 444, 445, 446, 447, 448, 449, 450, 451, 452, 453, 454, 455,\n",
       "       456, 457, 458, 459, 460, 461, 462, 463, 464, 465, 466, 467, 468,\n",
       "       469, 470, 471, 472, 473, 474, 475, 476, 477, 478, 479, 480, 481,\n",
       "       482, 483, 484, 485, 486, 487, 488, 489, 490, 491, 492, 493, 494,\n",
       "       495, 496, 497, 498, 499, 500, 501, 502, 503, 504, 505, 506, 507,\n",
       "       508, 509, 510, 511, 512, 513, 514, 515, 516, 517, 518, 519, 520,\n",
       "       521, 522, 523, 524, 525, 526, 527, 528, 529, 530, 531, 532, 533,\n",
       "       534, 535, 536, 537, 538, 539, 540, 541, 542, 543, 544, 545, 546,\n",
       "       547, 548, 549, 550, 551, 552, 553, 554, 555, 556, 557, 558, 559,\n",
       "       560, 561, 562, 563, 564, 565, 566, 567, 568, 569, 570, 571, 572,\n",
       "       573, 574, 575, 576, 577, 578, 579, 580, 581, 582, 583, 584, 585,\n",
       "       586, 587, 588, 589, 590, 591, 592, 593, 594, 595, 596, 597, 598,\n",
       "       599, 600, 601, 602, 603, 604, 605, 606, 607, 608, 609, 610, 611,\n",
       "       612, 613, 614, 615, 616, 617, 618, 619, 620, 621, 622, 623, 624,\n",
       "       625, 626, 627, 628, 629, 630, 631, 632, 633, 634, 635, 636, 637,\n",
       "       638, 639, 640, 641, 642, 643, 644, 645, 646, 647, 648, 649, 650])"
      ]
     },
     "execution_count": 13,
     "metadata": {},
     "output_type": "execute_result"
    }
   ],
   "source": [
    "df.unknown_1.unique()"
   ]
  },
  {
   "cell_type": "code",
   "execution_count": 16,
   "metadata": {},
   "outputs": [
    {
     "data": {
      "text/plain": [
       "unknown_1\n",
       "11     11065\n",
       "64     10759\n",
       "53      9534\n",
       "1       5437\n",
       "344     5370\n",
       "       ...  \n",
       "357        0\n",
       "61         0\n",
       "62         0\n",
       "63         0\n",
       "353        0\n",
       "Name: unknown_2, Length: 650, dtype: int64"
      ]
     },
     "execution_count": 16,
     "metadata": {},
     "output_type": "execute_result"
    }
   ],
   "source": [
    "df.groupby('unknown_1').unknown_2.count().sort_values(ascending=False)"
   ]
  },
  {
   "cell_type": "code",
   "execution_count": 19,
   "metadata": {},
   "outputs": [
    {
     "data": {
      "text/html": [
       "<div>\n",
       "<style scoped>\n",
       "    .dataframe tbody tr th:only-of-type {\n",
       "        vertical-align: middle;\n",
       "    }\n",
       "\n",
       "    .dataframe tbody tr th {\n",
       "        vertical-align: top;\n",
       "    }\n",
       "\n",
       "    .dataframe thead th {\n",
       "        text-align: right;\n",
       "    }\n",
       "</style>\n",
       "<table border=\"1\" class=\"dataframe\">\n",
       "  <thead>\n",
       "    <tr style=\"text-align: right;\">\n",
       "      <th></th>\n",
       "      <th>date</th>\n",
       "      <th>time</th>\n",
       "      <th>url_destination</th>\n",
       "      <th>user_id</th>\n",
       "      <th>unknown_2</th>\n",
       "      <th>ip_address</th>\n",
       "    </tr>\n",
       "  </thead>\n",
       "  <tbody>\n",
       "    <tr>\n",
       "      <th>0</th>\n",
       "      <td>2018-01-26</td>\n",
       "      <td>09:55:03</td>\n",
       "      <td>/</td>\n",
       "      <td>1</td>\n",
       "      <td>8.0</td>\n",
       "      <td>98.106.20.62</td>\n",
       "    </tr>\n",
       "    <tr>\n",
       "      <th>1</th>\n",
       "      <td>2018-01-26</td>\n",
       "      <td>09:56:02</td>\n",
       "      <td>java-ii</td>\n",
       "      <td>1</td>\n",
       "      <td>8.0</td>\n",
       "      <td>98.106.20.62</td>\n",
       "    </tr>\n",
       "    <tr>\n",
       "      <th>2</th>\n",
       "      <td>2018-01-26</td>\n",
       "      <td>09:56:05</td>\n",
       "      <td>java-ii/object-oriented-programming</td>\n",
       "      <td>1</td>\n",
       "      <td>8.0</td>\n",
       "      <td>98.106.20.62</td>\n",
       "    </tr>\n",
       "    <tr>\n",
       "      <th>3</th>\n",
       "      <td>2018-01-26</td>\n",
       "      <td>09:56:06</td>\n",
       "      <td>slides/object_oriented_programming</td>\n",
       "      <td>1</td>\n",
       "      <td>8.0</td>\n",
       "      <td>98.106.20.62</td>\n",
       "    </tr>\n",
       "    <tr>\n",
       "      <th>4</th>\n",
       "      <td>2018-01-26</td>\n",
       "      <td>09:56:24</td>\n",
       "      <td>javascript-i/conditionals</td>\n",
       "      <td>2</td>\n",
       "      <td>22.0</td>\n",
       "      <td>98.106.20.62</td>\n",
       "    </tr>\n",
       "    <tr>\n",
       "      <th>...</th>\n",
       "      <td>...</td>\n",
       "      <td>...</td>\n",
       "      <td>...</td>\n",
       "      <td>...</td>\n",
       "      <td>...</td>\n",
       "      <td>...</td>\n",
       "    </tr>\n",
       "    <tr>\n",
       "      <th>543591</th>\n",
       "      <td>2020-05-15</td>\n",
       "      <td>15:01:40</td>\n",
       "      <td>java-ii/file-io</td>\n",
       "      <td>602</td>\n",
       "      <td>56.0</td>\n",
       "      <td>48.188.241.68</td>\n",
       "    </tr>\n",
       "    <tr>\n",
       "      <th>543592</th>\n",
       "      <td>2020-05-15</td>\n",
       "      <td>15:01:54</td>\n",
       "      <td>9-timeseries/3-prep</td>\n",
       "      <td>582</td>\n",
       "      <td>55.0</td>\n",
       "      <td>48.135.163.38</td>\n",
       "    </tr>\n",
       "    <tr>\n",
       "      <th>543593</th>\n",
       "      <td>2020-05-15</td>\n",
       "      <td>15:03:37</td>\n",
       "      <td>jquery/ajax/requests-and-responses</td>\n",
       "      <td>637</td>\n",
       "      <td>57.0</td>\n",
       "      <td>71.121.18.17</td>\n",
       "    </tr>\n",
       "    <tr>\n",
       "      <th>543594</th>\n",
       "      <td>2020-05-15</td>\n",
       "      <td>15:05:14</td>\n",
       "      <td>10-anomaly-detection/3-discrete-probabilistic-...</td>\n",
       "      <td>11</td>\n",
       "      <td>28.0</td>\n",
       "      <td>77.186.132.227</td>\n",
       "    </tr>\n",
       "    <tr>\n",
       "      <th>543595</th>\n",
       "      <td>2020-05-15</td>\n",
       "      <td>15:06:05</td>\n",
       "      <td>examples/javascript/blog.json</td>\n",
       "      <td>643</td>\n",
       "      <td>57.0</td>\n",
       "      <td>174.175.131.39</td>\n",
       "    </tr>\n",
       "  </tbody>\n",
       "</table>\n",
       "<p>543596 rows × 6 columns</p>\n",
       "</div>"
      ],
      "text/plain": [
       "              date      time  \\\n",
       "0       2018-01-26  09:55:03   \n",
       "1       2018-01-26  09:56:02   \n",
       "2       2018-01-26  09:56:05   \n",
       "3       2018-01-26  09:56:06   \n",
       "4       2018-01-26  09:56:24   \n",
       "...            ...       ...   \n",
       "543591  2020-05-15  15:01:40   \n",
       "543592  2020-05-15  15:01:54   \n",
       "543593  2020-05-15  15:03:37   \n",
       "543594  2020-05-15  15:05:14   \n",
       "543595  2020-05-15  15:06:05   \n",
       "\n",
       "                                          url_destination  user_id  unknown_2  \\\n",
       "0                                                       /        1        8.0   \n",
       "1                                                 java-ii        1        8.0   \n",
       "2                     java-ii/object-oriented-programming        1        8.0   \n",
       "3                      slides/object_oriented_programming        1        8.0   \n",
       "4                               javascript-i/conditionals        2       22.0   \n",
       "...                                                   ...      ...        ...   \n",
       "543591                                    java-ii/file-io      602       56.0   \n",
       "543592                                9-timeseries/3-prep      582       55.0   \n",
       "543593                 jquery/ajax/requests-and-responses      637       57.0   \n",
       "543594  10-anomaly-detection/3-discrete-probabilistic-...       11       28.0   \n",
       "543595                      examples/javascript/blog.json      643       57.0   \n",
       "\n",
       "            ip_address  \n",
       "0         98.106.20.62  \n",
       "1         98.106.20.62  \n",
       "2         98.106.20.62  \n",
       "3         98.106.20.62  \n",
       "4         98.106.20.62  \n",
       "...                ...  \n",
       "543591   48.188.241.68  \n",
       "543592   48.135.163.38  \n",
       "543593    71.121.18.17  \n",
       "543594  77.186.132.227  \n",
       "543595  174.175.131.39  \n",
       "\n",
       "[543596 rows x 6 columns]"
      ]
     },
     "execution_count": 19,
     "metadata": {},
     "output_type": "execute_result"
    }
   ],
   "source": [
    "df.rename(columns =({'unknown_1': 'user_id'}))"
   ]
  },
  {
   "cell_type": "code",
   "execution_count": 20,
   "metadata": {},
   "outputs": [
    {
     "data": {
      "text/plain": [
       "'2018-01-26'"
      ]
     },
     "execution_count": 20,
     "metadata": {},
     "output_type": "execute_result"
    }
   ],
   "source": [
    "df.date.min()"
   ]
  },
  {
   "cell_type": "code",
   "execution_count": 21,
   "metadata": {},
   "outputs": [
    {
     "data": {
      "text/plain": [
       "'2020-05-15'"
      ]
     },
     "execution_count": 21,
     "metadata": {},
     "output_type": "execute_result"
    }
   ],
   "source": [
    "df.date.max()"
   ]
  },
  {
   "cell_type": "code",
   "execution_count": 22,
   "metadata": {},
   "outputs": [
    {
     "data": {
      "text/plain": [
       "count    515740.000000\n",
       "mean         32.625877\n",
       "std          12.699356\n",
       "min           1.000000\n",
       "25%          24.000000\n",
       "50%          29.000000\n",
       "75%          34.000000\n",
       "max          57.000000\n",
       "Name: unknown_2, dtype: float64"
      ]
     },
     "execution_count": 22,
     "metadata": {},
     "output_type": "execute_result"
    }
   ],
   "source": [
    "df.unknown_2.describe()"
   ]
  },
  {
   "cell_type": "code",
   "execution_count": 23,
   "metadata": {},
   "outputs": [
    {
     "data": {
      "text/plain": [
       "<matplotlib.axes._subplots.AxesSubplot at 0x12248d790>"
      ]
     },
     "execution_count": 23,
     "metadata": {},
     "output_type": "execute_result"
    },
    {
     "data": {
      "image/png": "[encoded data removed]",
      "text/plain": [
       "<Figure size 432x288 with 1 Axes>"
      ]
     },
     "metadata": {
      "needs_background": "light"
     },
     "output_type": "display_data"
    }
   ],
   "source": [
    "df.unknown_2.hist()"
   ]
  },
  {
   "cell_type": "code",
   "execution_count": 24,
   "metadata": {},
   "outputs": [
    {
     "data": {
      "text/plain": [
       "<matplotlib.axes._subplots.AxesSubplot at 0x1224c7710>"
      ]
     },
     "execution_count": 24,
     "metadata": {},
     "output_type": "execute_result"
    },
    {
     "data": {
      "image/png": "[encoded data removed]",
      "text/plain": [
       "<Figure size 432x288 with 1 Axes>"
      ]
     },
     "metadata": {
      "needs_background": "light"
     },
     "output_type": "display_data"
    }
   ],
   "source": [
    "df.unknown_2.plot()"
   ]
  },
  {
   "cell_type": "code",
   "execution_count": 26,
   "metadata": {},
   "outputs": [
    {
     "data": {
      "text/plain": [
       "36"
      ]
     },
     "execution_count": 26,
     "metadata": {},
     "output_type": "execute_result"
    }
   ],
   "source": [
    "len(df.unknown_2.value_counts())"
   ]
  },
  {
   "cell_type": "code",
   "execution_count": 32,
   "metadata": {},
   "outputs": [
    {
     "data": {
      "text/plain": [
       "array([ 8., 22., 21.,  1., 16., 18., 19., nan, 13., 14., 15.,  7.,  4.,\n",
       "       12., 17., 23.,  2.,  9., 11., 24., 25., 26.,  6., 27., 28., 29.,\n",
       "       31., 32., 33., 34., 51., 52., 53., 55., 56., 57.,  5.])"
      ]
     },
     "execution_count": 32,
     "metadata": {},
     "output_type": "execute_result"
    }
   ],
   "source": [
    "df.unknown_2.unique()"
   ]
  },
  {
   "cell_type": "code",
   "execution_count": 38,
   "metadata": {},
   "outputs": [
    {
     "data": {
      "text/html": [
       "<div>\n",
       "<style scoped>\n",
       "    .dataframe tbody tr th:only-of-type {\n",
       "        vertical-align: middle;\n",
       "    }\n",
       "\n",
       "    .dataframe tbody tr th {\n",
       "        vertical-align: top;\n",
       "    }\n",
       "\n",
       "    .dataframe thead th {\n",
       "        text-align: right;\n",
       "    }\n",
       "</style>\n",
       "<table border=\"1\" class=\"dataframe\">\n",
       "  <thead>\n",
       "    <tr style=\"text-align: right;\">\n",
       "      <th></th>\n",
       "      <th>date</th>\n",
       "      <th>time</th>\n",
       "      <th>url_destination</th>\n",
       "      <th>unknown_1</th>\n",
       "      <th>unknown_2</th>\n",
       "      <th>ip_address</th>\n",
       "    </tr>\n",
       "    <tr>\n",
       "      <th>datetime</th>\n",
       "      <th></th>\n",
       "      <th></th>\n",
       "      <th></th>\n",
       "      <th></th>\n",
       "      <th></th>\n",
       "      <th></th>\n",
       "    </tr>\n",
       "  </thead>\n",
       "  <tbody>\n",
       "    <tr>\n",
       "      <th>2018-01-26 09:55:03</th>\n",
       "      <td>2018-01-26</td>\n",
       "      <td>09:55:03</td>\n",
       "      <td>/</td>\n",
       "      <td>1</td>\n",
       "      <td>8.0</td>\n",
       "      <td>98.106.20.62</td>\n",
       "    </tr>\n",
       "    <tr>\n",
       "      <th>2018-01-26 09:56:02</th>\n",
       "      <td>2018-01-26</td>\n",
       "      <td>09:56:02</td>\n",
       "      <td>java-ii</td>\n",
       "      <td>1</td>\n",
       "      <td>8.0</td>\n",
       "      <td>98.106.20.62</td>\n",
       "    </tr>\n",
       "    <tr>\n",
       "      <th>2018-01-26 09:56:05</th>\n",
       "      <td>2018-01-26</td>\n",
       "      <td>09:56:05</td>\n",
       "      <td>java-ii/object-oriented-programming</td>\n",
       "      <td>1</td>\n",
       "      <td>8.0</td>\n",
       "      <td>98.106.20.62</td>\n",
       "    </tr>\n",
       "    <tr>\n",
       "      <th>2018-01-26 09:56:06</th>\n",
       "      <td>2018-01-26</td>\n",
       "      <td>09:56:06</td>\n",
       "      <td>slides/object_oriented_programming</td>\n",
       "      <td>1</td>\n",
       "      <td>8.0</td>\n",
       "      <td>98.106.20.62</td>\n",
       "    </tr>\n",
       "    <tr>\n",
       "      <th>2018-01-26 09:56:24</th>\n",
       "      <td>2018-01-26</td>\n",
       "      <td>09:56:24</td>\n",
       "      <td>javascript-i/conditionals</td>\n",
       "      <td>2</td>\n",
       "      <td>22.0</td>\n",
       "      <td>98.106.20.62</td>\n",
       "    </tr>\n",
       "    <tr>\n",
       "      <th>...</th>\n",
       "      <td>...</td>\n",
       "      <td>...</td>\n",
       "      <td>...</td>\n",
       "      <td>...</td>\n",
       "      <td>...</td>\n",
       "      <td>...</td>\n",
       "    </tr>\n",
       "    <tr>\n",
       "      <th>2020-05-15 15:01:40</th>\n",
       "      <td>2020-05-15</td>\n",
       "      <td>15:01:40</td>\n",
       "      <td>java-ii/file-io</td>\n",
       "      <td>602</td>\n",
       "      <td>56.0</td>\n",
       "      <td>48.188.241.68</td>\n",
       "    </tr>\n",
       "    <tr>\n",
       "      <th>2020-05-15 15:01:54</th>\n",
       "      <td>2020-05-15</td>\n",
       "      <td>15:01:54</td>\n",
       "      <td>9-timeseries/3-prep</td>\n",
       "      <td>582</td>\n",
       "      <td>55.0</td>\n",
       "      <td>48.135.163.38</td>\n",
       "    </tr>\n",
       "    <tr>\n",
       "      <th>2020-05-15 15:03:37</th>\n",
       "      <td>2020-05-15</td>\n",
       "      <td>15:03:37</td>\n",
       "      <td>jquery/ajax/requests-and-responses</td>\n",
       "      <td>637</td>\n",
       "      <td>57.0</td>\n",
       "      <td>71.121.18.17</td>\n",
       "    </tr>\n",
       "    <tr>\n",
       "      <th>2020-05-15 15:05:14</th>\n",
       "      <td>2020-05-15</td>\n",
       "      <td>15:05:14</td>\n",
       "      <td>10-anomaly-detection/3-discrete-probabilistic-...</td>\n",
       "      <td>11</td>\n",
       "      <td>28.0</td>\n",
       "      <td>77.186.132.227</td>\n",
       "    </tr>\n",
       "    <tr>\n",
       "      <th>2020-05-15 15:06:05</th>\n",
       "      <td>2020-05-15</td>\n",
       "      <td>15:06:05</td>\n",
       "      <td>examples/javascript/blog.json</td>\n",
       "      <td>643</td>\n",
       "      <td>57.0</td>\n",
       "      <td>174.175.131.39</td>\n",
       "    </tr>\n",
       "  </tbody>\n",
       "</table>\n",
       "<p>543596 rows × 6 columns</p>\n",
       "</div>"
      ],
      "text/plain": [
       "                           date      time  \\\n",
       "datetime                                    \n",
       "2018-01-26 09:55:03  2018-01-26  09:55:03   \n",
       "2018-01-26 09:56:02  2018-01-26  09:56:02   \n",
       "2018-01-26 09:56:05  2018-01-26  09:56:05   \n",
       "2018-01-26 09:56:06  2018-01-26  09:56:06   \n",
       "2018-01-26 09:56:24  2018-01-26  09:56:24   \n",
       "...                         ...       ...   \n",
       "2020-05-15 15:01:40  2020-05-15  15:01:40   \n",
       "2020-05-15 15:01:54  2020-05-15  15:01:54   \n",
       "2020-05-15 15:03:37  2020-05-15  15:03:37   \n",
       "2020-05-15 15:05:14  2020-05-15  15:05:14   \n",
       "2020-05-15 15:06:05  2020-05-15  15:06:05   \n",
       "\n",
       "                                                       url_destination  \\\n",
       "datetime                                                                 \n",
       "2018-01-26 09:55:03                                                  /   \n",
       "2018-01-26 09:56:02                                            java-ii   \n",
       "2018-01-26 09:56:05                java-ii/object-oriented-programming   \n",
       "2018-01-26 09:56:06                 slides/object_oriented_programming   \n",
       "2018-01-26 09:56:24                          javascript-i/conditionals   \n",
       "...                                                                ...   \n",
       "2020-05-15 15:01:40                                    java-ii/file-io   \n",
       "2020-05-15 15:01:54                                9-timeseries/3-prep   \n",
       "2020-05-15 15:03:37                 jquery/ajax/requests-and-responses   \n",
       "2020-05-15 15:05:14  10-anomaly-detection/3-discrete-probabilistic-...   \n",
       "2020-05-15 15:06:05                      examples/javascript/blog.json   \n",
       "\n",
       "                     unknown_1  unknown_2      ip_address  \n",
       "datetime                                                   \n",
       "2018-01-26 09:55:03          1        8.0    98.106.20.62  \n",
       "2018-01-26 09:56:02          1        8.0    98.106.20.62  \n",
       "2018-01-26 09:56:05          1        8.0    98.106.20.62  \n",
       "2018-01-26 09:56:06          1        8.0    98.106.20.62  \n",
       "2018-01-26 09:56:24          2       22.0    98.106.20.62  \n",
       "...                        ...        ...             ...  \n",
       "2020-05-15 15:01:40        602       56.0   48.188.241.68  \n",
       "2020-05-15 15:01:54        582       55.0   48.135.163.38  \n",
       "2020-05-15 15:03:37        637       57.0    71.121.18.17  \n",
       "2020-05-15 15:05:14         11       28.0  77.186.132.227  \n",
       "2020-05-15 15:06:05        643       57.0  174.175.131.39  \n",
       "\n",
       "[543596 rows x 6 columns]"
      ]
     },
     "execution_count": 38,
     "metadata": {},
     "output_type": "execute_result"
    }
   ],
   "source": [
    "df['datetime'] = df['date'] + \" \" + df['time']\n",
    "df.datetime = pd.to_datetime(df.datetime)\n",
    "df.set_index('datetime')"
   ]
  },
  {
   "cell_type": "code",
   "execution_count": 123,
   "metadata": {},
   "outputs": [],
   "source": [
    "# unknown2 is more likely cohort than anything else\n",
    "df = df.rename(columns = {'unknown_1': 'user_id', 'unknown_2': 'cohort'})"
   ]
  },
  {
   "cell_type": "code",
   "execution_count": 40,
   "metadata": {},
   "outputs": [
    {
     "data": {
      "text/plain": [
       "<matplotlib.collections.PathCollection at 0x128b350d0>"
      ]
     },
     "execution_count": 40,
     "metadata": {},
     "output_type": "execute_result"
    },
    {
     "data": {
      "image/png": "[encoded data removed]",
      "text/plain": [
       "<Figure size 432x288 with 1 Axes>"
      ]
     },
     "metadata": {
      "needs_background": "light"
     },
     "output_type": "display_data"
    }
   ],
   "source": [
    "plt.scatter(x=df.datetime, y=df.unknown_2)"
   ]
  },
  {
   "cell_type": "code",
   "execution_count": 43,
   "metadata": {},
   "outputs": [
    {
     "data": {
      "text/plain": [
       "unknown_2\n",
       "1.0       744393\n",
       "2.0        25412\n",
       "4.0          340\n",
       "5.0          649\n",
       "6.0        21962\n",
       "7.0        67755\n",
       "8.0        35867\n",
       "9.0          760\n",
       "11.0       55714\n",
       "12.0       30625\n",
       "13.0      208524\n",
       "14.0      553309\n",
       "15.0       76565\n",
       "16.0       53337\n",
       "17.0     1440419\n",
       "18.0      167054\n",
       "19.0      140560\n",
       "21.0      448163\n",
       "22.0     1207874\n",
       "23.0     3724979\n",
       "24.0     6933548\n",
       "25.0     5908709\n",
       "26.0     7532005\n",
       "27.0     6075296\n",
       "28.0     6648499\n",
       "29.0    12263404\n",
       "31.0     9453780\n",
       "32.0    11624226\n",
       "33.0    17354796\n",
       "34.0    11230020\n",
       "51.0    13183893\n",
       "52.0    13856591\n",
       "53.0    16237299\n",
       "55.0     8332803\n",
       "56.0     8738747\n",
       "57.0     6047976\n",
       "Name: unknown_1, dtype: int64"
      ]
     },
     "execution_count": 43,
     "metadata": {},
     "output_type": "execute_result"
    }
   ],
   "source": [
    "df.groupby('unknown_2').unknown_1.sum()"
   ]
  },
  {
   "cell_type": "code",
   "execution_count": 47,
   "metadata": {},
   "outputs": [
    {
     "data": {
      "text/plain": [
       "34.0    371\n",
       "28.0    348\n",
       "55.0     88\n",
       "22.0      2\n",
       "51.0      1\n",
       "14.0      1\n",
       "32.0      1\n",
       "Name: unknown_2, dtype: int64"
      ]
     },
     "execution_count": 47,
     "metadata": {},
     "output_type": "execute_result"
    }
   ],
   "source": [
    "df[df.url_destination == '10-anomaly-detection/1-overview']['unknown_2'].value_counts()"
   ]
  },
  {
   "cell_type": "code",
   "execution_count": 55,
   "metadata": {},
   "outputs": [
    {
     "data": {
      "text/plain": [
       "unknown_2\n",
       "1.0     [11, 60, 64, 95, 141, 146, 148, 170, 209, 211,...\n",
       "2.0                                       [144, 280, 396]\n",
       "4.0                                                  [85]\n",
       "5.0                                                 [649]\n",
       "6.0                                            [283, 405]\n",
       "7.0                          [77, 169, 173, 88, 348, 513]\n",
       "8.0                               [1, 114, 150, 174, 646]\n",
       "9.0                                                 [152]\n",
       "11.0                             [177, 245, 88, 279, 463]\n",
       "12.0                                  [101, 161, 214, 88]\n",
       "13.0        [50, 51, 66, 68, 93, 113, 156, 167, 118, 318]\n",
       "14.0    [53, 69, 80, 82, 90, 98, 139, 147, 149, 246, 5...\n",
       "15.0                             [72, 107, 164, 172, 427]\n",
       "16.0                [21, 40, 97, 143, 165, 181, 216, 322]\n",
       "17.0    [102, 106, 140, 151, 168, 210, 241, 242, 281, ...\n",
       "18.0    [26, 67, 76, 81, 83, 84, 91, 104, 108, 162, 17...\n",
       "19.0    [37, 70, 71, 75, 87, 92, 94, 96, 105, 109, 112...\n",
       "21.0    [10, 15, 16, 17, 22, 24, 27, 28, 33, 36, 38, 4...\n",
       "22.0    [2, 3, 4, 5, 6, 7, 8, 9, 12, 13, 14, 18, 19, 2...\n",
       "23.0    [25, 116, 117, 118, 119, 120, 121, 122, 123, 1...\n",
       "24.0    [182, 183, 184, 185, 186, 187, 188, 189, 190, ...\n",
       "25.0    [218, 219, 220, 221, 222, 223, 224, 225, 226, ...\n",
       "26.0    [259, 260, 261, 262, 263, 264, 265, 266, 267, ...\n",
       "27.0    [287, 288, 289, 290, 291, 292, 293, 294, 295, ...\n",
       "28.0    [53, 314, 40, 64, 11, 211, 1, 312, 146, 248, 3...\n",
       "29.0    [323, 324, 325, 326, 327, 328, 329, 330, 331, ...\n",
       "31.0    [373, 374, 376, 377, 378, 379, 380, 381, 382, ...\n",
       "32.0    [407, 408, 409, 410, 411, 412, 413, 414, 415, ...\n",
       "33.0    [433, 434, 435, 436, 437, 438, 439, 440, 441, ...\n",
       "34.0    [466, 467, 468, 469, 470, 471, 472, 473, 474, ...\n",
       "51.0    [488, 489, 490, 491, 492, 493, 494, 495, 496, ...\n",
       "52.0    [516, 517, 518, 519, 520, 521, 522, 523, 524, ...\n",
       "53.0    [120, 547, 548, 549, 550, 551, 552, 553, 554, ...\n",
       "55.0    [575, 576, 577, 578, 579, 580, 581, 582, 583, ...\n",
       "56.0    [594, 595, 596, 597, 598, 599, 600, 601, 602, ...\n",
       "57.0    [619, 621, 622, 623, 624, 625, 626, 627, 628, ...\n",
       "Name: unknown_1, dtype: object"
      ]
     },
     "execution_count": 55,
     "metadata": {},
     "output_type": "execute_result"
    }
   ],
   "source": [
    "df.groupby('unknown_2').unknown_1.unique()"
   ]
  },
  {
   "cell_type": "code",
   "execution_count": 100,
   "metadata": {},
   "outputs": [
    {
     "data": {
      "text/plain": [
       "Float64Index([ 1.0,  2.0,  4.0,  5.0,  6.0,  7.0,  8.0,  9.0, 11.0, 12.0, 13.0,\n",
       "              14.0, 15.0, 16.0, 17.0, 18.0, 19.0, 21.0, 22.0, 23.0, 24.0, 25.0,\n",
       "              26.0, 27.0, 28.0, 29.0, 31.0, 32.0, 33.0, 34.0, 51.0, 52.0, 53.0,\n",
       "              55.0, 56.0, 57.0],\n",
       "             dtype='float64', name='unknown_2')"
      ]
     },
     "execution_count": 100,
     "metadata": {},
     "output_type": "execute_result"
    }
   ],
   "source": [
    "\n",
    "df_2 = pd.DataFrame(df.groupby('unknown_2').unknown_1.unique())\n",
    "df_2.index"
   ]
  },
  {
   "cell_type": "code",
   "execution_count": 105,
   "metadata": {},
   "outputs": [
    {
     "data": {
      "text/plain": [
       "628"
      ]
     },
     "execution_count": 105,
     "metadata": {},
     "output_type": "execute_result"
    }
   ],
   "source": [
    "x = 0\n",
    "for i in df_2.index:\n",
    "    x += len(df_2.unknown_1[i])\n",
    "x"
   ]
  },
  {
   "cell_type": "code",
   "execution_count": 115,
   "metadata": {},
   "outputs": [
    {
     "data": {
      "text/html": [
       "<div>\n",
       "<style scoped>\n",
       "    .dataframe tbody tr th:only-of-type {\n",
       "        vertical-align: middle;\n",
       "    }\n",
       "\n",
       "    .dataframe tbody tr th {\n",
       "        vertical-align: top;\n",
       "    }\n",
       "\n",
       "    .dataframe thead th {\n",
       "        text-align: right;\n",
       "    }\n",
       "</style>\n",
       "<table border=\"1\" class=\"dataframe\">\n",
       "  <thead>\n",
       "    <tr style=\"text-align: right;\">\n",
       "      <th></th>\n",
       "      <th>url_destination</th>\n",
       "    </tr>\n",
       "  </thead>\n",
       "  <tbody>\n",
       "    <tr>\n",
       "      <th>/</th>\n",
       "      <td>28920</td>\n",
       "    </tr>\n",
       "    <tr>\n",
       "      <th>javascript-i</th>\n",
       "      <td>10950</td>\n",
       "    </tr>\n",
       "    <tr>\n",
       "      <th>search/search_index.json</th>\n",
       "      <td>10859</td>\n",
       "    </tr>\n",
       "    <tr>\n",
       "      <th>toc</th>\n",
       "      <td>9839</td>\n",
       "    </tr>\n",
       "    <tr>\n",
       "      <th>html-css</th>\n",
       "      <td>8202</td>\n",
       "    </tr>\n",
       "    <tr>\n",
       "      <th>...</th>\n",
       "      <td>...</td>\n",
       "    </tr>\n",
       "    <tr>\n",
       "      <th>content/mysql/relationships/indexes.html</th>\n",
       "      <td>1</td>\n",
       "    </tr>\n",
       "    <tr>\n",
       "      <th>8.0_Intro_Module</th>\n",
       "      <td>1</td>\n",
       "    </tr>\n",
       "    <tr>\n",
       "      <th>10.02.04_EntityLabeling.md</th>\n",
       "      <td>1</td>\n",
       "    </tr>\n",
       "    <tr>\n",
       "      <th>console-io</th>\n",
       "      <td>1</td>\n",
       "    </tr>\n",
       "    <tr>\n",
       "      <th>habn</th>\n",
       "      <td>1</td>\n",
       "    </tr>\n",
       "  </tbody>\n",
       "</table>\n",
       "<p>1811 rows × 1 columns</p>\n",
       "</div>"
      ],
      "text/plain": [
       "                                          url_destination\n",
       "/                                                   28920\n",
       "javascript-i                                        10950\n",
       "search/search_index.json                            10859\n",
       "toc                                                  9839\n",
       "html-css                                             8202\n",
       "...                                                   ...\n",
       "content/mysql/relationships/indexes.html                1\n",
       "8.0_Intro_Module                                        1\n",
       "10.02.04_EntityLabeling.md                              1\n",
       "console-io                                              1\n",
       "habn                                                    1\n",
       "\n",
       "[1811 rows x 1 columns]"
      ]
     },
     "execution_count": 115,
     "metadata": {},
     "output_type": "execute_result"
    }
   ],
   "source": [
    "pd.DataFrame(df.url_destination.value_counts())"
   ]
  },
  {
   "cell_type": "code",
   "execution_count": 122,
   "metadata": {},
   "outputs": [
    {
     "data": {
      "text/plain": [
       "<matplotlib.axes._subplots.AxesSubplot at 0x128b21a10>"
      ]
     },
     "execution_count": 122,
     "metadata": {},
     "output_type": "execute_result"
    },
    {
     "data": {
      "image/png": "[encoded data removed]",
      "text/plain": [
       "<Figure size 432x288 with 1 Axes>"
      ]
     },
     "metadata": {
      "needs_background": "light"
     },
     "output_type": "display_data"
    }
   ],
   "source": [
    "df.groupby('user_id').ip_address.count().hist()"
   ]
  },
  {
   "cell_type": "code",
   "execution_count": 130,
   "metadata": {},
   "outputs": [
    {
     "data": {
      "text/html": [
       "<div>\n",
       "<style scoped>\n",
       "    .dataframe tbody tr th:only-of-type {\n",
       "        vertical-align: middle;\n",
       "    }\n",
       "\n",
       "    .dataframe tbody tr th {\n",
       "        vertical-align: top;\n",
       "    }\n",
       "\n",
       "    .dataframe thead th {\n",
       "        text-align: right;\n",
       "    }\n",
       "</style>\n",
       "<table border=\"1\" class=\"dataframe\">\n",
       "  <thead>\n",
       "    <tr style=\"text-align: right;\">\n",
       "      <th></th>\n",
       "      <th>date</th>\n",
       "      <th>time</th>\n",
       "      <th>url_destination</th>\n",
       "      <th>user_id</th>\n",
       "      <th>group</th>\n",
       "      <th>ip_address</th>\n",
       "      <th>datetime</th>\n",
       "    </tr>\n",
       "  </thead>\n",
       "  <tbody>\n",
       "    <tr>\n",
       "      <th>282106</th>\n",
       "      <td>2019-06-12</td>\n",
       "      <td>12:48:26</td>\n",
       "      <td>/</td>\n",
       "      <td>429</td>\n",
       "      <td>NaN</td>\n",
       "      <td>98.106.20.59</td>\n",
       "      <td>2019-06-12 12:48:26</td>\n",
       "    </tr>\n",
       "    <tr>\n",
       "      <th>282107</th>\n",
       "      <td>2019-06-12</td>\n",
       "      <td>12:48:29</td>\n",
       "      <td>open_data</td>\n",
       "      <td>429</td>\n",
       "      <td>NaN</td>\n",
       "      <td>98.106.20.59</td>\n",
       "      <td>2019-06-12 12:48:29</td>\n",
       "    </tr>\n",
       "    <tr>\n",
       "      <th>282108</th>\n",
       "      <td>2019-06-12</td>\n",
       "      <td>12:48:30</td>\n",
       "      <td>Intro_to_Regression_Module</td>\n",
       "      <td>429</td>\n",
       "      <td>NaN</td>\n",
       "      <td>98.106.20.59</td>\n",
       "      <td>2019-06-12 12:48:30</td>\n",
       "    </tr>\n",
       "    <tr>\n",
       "      <th>282109</th>\n",
       "      <td>2019-06-12</td>\n",
       "      <td>12:48:36</td>\n",
       "      <td>open_data</td>\n",
       "      <td>429</td>\n",
       "      <td>NaN</td>\n",
       "      <td>98.106.20.59</td>\n",
       "      <td>2019-06-12 12:48:36</td>\n",
       "    </tr>\n",
       "    <tr>\n",
       "      <th>283444</th>\n",
       "      <td>2019-06-14</td>\n",
       "      <td>10:34:43</td>\n",
       "      <td>/</td>\n",
       "      <td>429</td>\n",
       "      <td>NaN</td>\n",
       "      <td>98.106.20.59</td>\n",
       "      <td>2019-06-14 10:34:43</td>\n",
       "    </tr>\n",
       "    <tr>\n",
       "      <th>...</th>\n",
       "      <td>...</td>\n",
       "      <td>...</td>\n",
       "      <td>...</td>\n",
       "      <td>...</td>\n",
       "      <td>...</td>\n",
       "      <td>...</td>\n",
       "      <td>...</td>\n",
       "    </tr>\n",
       "    <tr>\n",
       "      <th>538054</th>\n",
       "      <td>2020-05-09</td>\n",
       "      <td>10:21:39</td>\n",
       "      <td>6-regression/1-overview</td>\n",
       "      <td>429</td>\n",
       "      <td>NaN</td>\n",
       "      <td>69.202.220.224</td>\n",
       "      <td>2020-05-09 10:21:39</td>\n",
       "    </tr>\n",
       "    <tr>\n",
       "      <th>538055</th>\n",
       "      <td>2020-05-09</td>\n",
       "      <td>10:21:40</td>\n",
       "      <td>3-sql/1-mysql-overview</td>\n",
       "      <td>429</td>\n",
       "      <td>NaN</td>\n",
       "      <td>69.202.220.224</td>\n",
       "      <td>2020-05-09 10:21:40</td>\n",
       "    </tr>\n",
       "    <tr>\n",
       "      <th>538056</th>\n",
       "      <td>2020-05-09</td>\n",
       "      <td>10:21:42</td>\n",
       "      <td>5-stats/1-overview</td>\n",
       "      <td>429</td>\n",
       "      <td>NaN</td>\n",
       "      <td>69.202.220.224</td>\n",
       "      <td>2020-05-09 10:21:42</td>\n",
       "    </tr>\n",
       "    <tr>\n",
       "      <th>538057</th>\n",
       "      <td>2020-05-09</td>\n",
       "      <td>10:21:46</td>\n",
       "      <td>5-stats/2-simulation</td>\n",
       "      <td>429</td>\n",
       "      <td>NaN</td>\n",
       "      <td>69.202.220.224</td>\n",
       "      <td>2020-05-09 10:21:46</td>\n",
       "    </tr>\n",
       "    <tr>\n",
       "      <th>538058</th>\n",
       "      <td>2020-05-09</td>\n",
       "      <td>10:21:48</td>\n",
       "      <td>5-stats/3-probability-distributions</td>\n",
       "      <td>429</td>\n",
       "      <td>NaN</td>\n",
       "      <td>69.202.220.224</td>\n",
       "      <td>2020-05-09 10:21:48</td>\n",
       "    </tr>\n",
       "  </tbody>\n",
       "</table>\n",
       "<p>382 rows × 7 columns</p>\n",
       "</div>"
      ],
      "text/plain": [
       "              date      time                      url_destination  user_id  \\\n",
       "282106  2019-06-12  12:48:26                                    /      429   \n",
       "282107  2019-06-12  12:48:29                            open_data      429   \n",
       "282108  2019-06-12  12:48:30           Intro_to_Regression_Module      429   \n",
       "282109  2019-06-12  12:48:36                            open_data      429   \n",
       "283444  2019-06-14  10:34:43                                    /      429   \n",
       "...            ...       ...                                  ...      ...   \n",
       "538054  2020-05-09  10:21:39              6-regression/1-overview      429   \n",
       "538055  2020-05-09  10:21:40               3-sql/1-mysql-overview      429   \n",
       "538056  2020-05-09  10:21:42                   5-stats/1-overview      429   \n",
       "538057  2020-05-09  10:21:46                 5-stats/2-simulation      429   \n",
       "538058  2020-05-09  10:21:48  5-stats/3-probability-distributions      429   \n",
       "\n",
       "        group      ip_address            datetime  \n",
       "282106    NaN    98.106.20.59 2019-06-12 12:48:26  \n",
       "282107    NaN    98.106.20.59 2019-06-12 12:48:29  \n",
       "282108    NaN    98.106.20.59 2019-06-12 12:48:30  \n",
       "282109    NaN    98.106.20.59 2019-06-12 12:48:36  \n",
       "283444    NaN    98.106.20.59 2019-06-14 10:34:43  \n",
       "...       ...             ...                 ...  \n",
       "538054    NaN  69.202.220.224 2020-05-09 10:21:39  \n",
       "538055    NaN  69.202.220.224 2020-05-09 10:21:40  \n",
       "538056    NaN  69.202.220.224 2020-05-09 10:21:42  \n",
       "538057    NaN  69.202.220.224 2020-05-09 10:21:46  \n",
       "538058    NaN  69.202.220.224 2020-05-09 10:21:48  \n",
       "\n",
       "[382 rows x 7 columns]"
      ]
     },
     "execution_count": 130,
     "metadata": {},
     "output_type": "execute_result"
    }
   ],
   "source": [
    "df[df.user_id == 429]"
   ]
  },
  {
   "cell_type": "code",
   "execution_count": 144,
   "metadata": {},
   "outputs": [
    {
     "ename": "AttributeError",
     "evalue": "'Series' object has no attribute 'count_uniques'",
     "output_type": "error",
     "traceback": [
      "\u001b[0;31m---------------------------------------------------------------------------\u001b[0m",
      "\u001b[0;31mAttributeError\u001b[0m                            Traceback (most recent call last)",
      "\u001b[0;32m<ipython-input-144-91ff908db92e>\u001b[0m in \u001b[0;36m<module>\u001b[0;34m\u001b[0m\n\u001b[0;32m----> 1\u001b[0;31m \u001b[0mdf\u001b[0m\u001b[0;34m.\u001b[0m\u001b[0mgroup\u001b[0m\u001b[0;34m.\u001b[0m\u001b[0mcount_uniques\u001b[0m\u001b[0;34m(\u001b[0m\u001b[0;34m)\u001b[0m\u001b[0;34m\u001b[0m\u001b[0;34m\u001b[0m\u001b[0m\n\u001b[0m",
      "\u001b[0;32m/usr/local/anaconda3/lib/python3.7/site-packages/pandas/core/generic.py\u001b[0m in \u001b[0;36m__getattr__\u001b[0;34m(self, name)\u001b[0m\n\u001b[1;32m   5177\u001b[0m             \u001b[0;32mif\u001b[0m \u001b[0mself\u001b[0m\u001b[0;34m.\u001b[0m\u001b[0m_info_axis\u001b[0m\u001b[0;34m.\u001b[0m\u001b[0m_can_hold_identifiers_and_holds_name\u001b[0m\u001b[0;34m(\u001b[0m\u001b[0mname\u001b[0m\u001b[0;34m)\u001b[0m\u001b[0;34m:\u001b[0m\u001b[0;34m\u001b[0m\u001b[0;34m\u001b[0m\u001b[0m\n\u001b[1;32m   5178\u001b[0m                 \u001b[0;32mreturn\u001b[0m \u001b[0mself\u001b[0m\u001b[0;34m[\u001b[0m\u001b[0mname\u001b[0m\u001b[0;34m]\u001b[0m\u001b[0;34m\u001b[0m\u001b[0;34m\u001b[0m\u001b[0m\n\u001b[0;32m-> 5179\u001b[0;31m             \u001b[0;32mreturn\u001b[0m \u001b[0mobject\u001b[0m\u001b[0;34m.\u001b[0m\u001b[0m__getattribute__\u001b[0m\u001b[0;34m(\u001b[0m\u001b[0mself\u001b[0m\u001b[0;34m,\u001b[0m \u001b[0mname\u001b[0m\u001b[0;34m)\u001b[0m\u001b[0;34m\u001b[0m\u001b[0;34m\u001b[0m\u001b[0m\n\u001b[0m\u001b[1;32m   5180\u001b[0m \u001b[0;34m\u001b[0m\u001b[0m\n\u001b[1;32m   5181\u001b[0m     \u001b[0;32mdef\u001b[0m \u001b[0m__setattr__\u001b[0m\u001b[0;34m(\u001b[0m\u001b[0mself\u001b[0m\u001b[0;34m,\u001b[0m \u001b[0mname\u001b[0m\u001b[0;34m,\u001b[0m \u001b[0mvalue\u001b[0m\u001b[0;34m)\u001b[0m\u001b[0;34m:\u001b[0m\u001b[0;34m\u001b[0m\u001b[0;34m\u001b[0m\u001b[0m\n",
      "\u001b[0;31mAttributeError\u001b[0m: 'Series' object has no attribute 'count_uniques'"
     ]
    }
   ],
   "source": [
    "df.group.count_uniques()"
   ]
  },
  {
   "cell_type": "markdown",
   "metadata": {},
   "source": [
    "Can you label students who are viewing both the web dev and data science curriculum? Can you label students by the program they are in? Can you label users by student vs. staff? What are Zach, Maggie, David, and Ryan's ids? ",
    "Can you label students who are viewing both the web dev and data science curriculum? Can you label students by the program they are in? Can you label users by student vs. staff?\n"
   ]
  },
  {
   "cell_type": "code",
   "execution_count": null,
   "metadata": {},
   "outputs": [],
   "source": []
  }
 ],
 "metadata": {
  "kernelspec": {
   "display_name": "Python 3",
   "language": "python",
   "name": "python3"
  },
  "language_info": {
   "codemirror_mode": {
    "name": "ipython",
    "version": 3
   },
   "file_extension": ".py",
   "mimetype": "text/x-python",
   "name": "python",
   "nbconvert_exporter": "python",
   "pygments_lexer": "ipython3",
   "version": "3.7.4"
  }
 },
 "nbformat": 4,
 "nbformat_minor": 2
}
